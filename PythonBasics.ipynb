{
  "nbformat": 4,
  "nbformat_minor": 0,
  "metadata": {
    "colab": {
      "provenance": []
    },
    "kernelspec": {
      "name": "python3",
      "display_name": "Python 3"
    },
    "language_info": {
      "name": "python"
    }
  },
  "cells": [
    {
      "cell_type": "markdown",
      "source": [
        "# Python Basics Assignment\n"
      ],
      "metadata": {
        "id": "xlPs5nZdbRNs"
      }
    },
    {
      "cell_type": "markdown",
      "source": [
        " Python Basics Questions"
      ],
      "metadata": {
        "id": "E_8F9NLgbdHP"
      }
    },
    {
      "cell_type": "markdown",
      "source": [
        "1.  what is python, and why is it popular?\n",
        "    - Python is a high-level, interpreted programming language known for its easy-to-read syntax and versatility. It is popular due to its simplicity, extensive libraries, and wide range of applications, including web development, data science, automation, and machine learning. Its large community and cross-platform compatibility also contribute to its popularity."
      ],
      "metadata": {
        "id": "--QrjTxTcpWu"
      }
    },
    {
      "cell_type": "markdown",
      "source": [
        "2. What is an interpreter in Python?\n",
        "   - An interpreter in Python is a program that reads and executes Python code line by line. Unlike compilers, which translate the entire code into machine language before execution, an interpreter directly executes the instructions, making it easier to debug and test code."
      ],
      "metadata": {
        "id": "TnoBsATsd7JQ"
      }
    },
    {
      "cell_type": "markdown",
      "source": [
        "3. What are pre-defined keywords in Python?\n",
        "   - Pre-defined keywords in Python are reserved words that have a specific meaning and function in the language. These keywords cannot be used as identifiers. Examples include if, else, for, while, def, and class. They define the structure and control flow of a Python program."
      ],
      "metadata": {
        "id": "LfS0kZXpeUg6"
      }
    },
    {
      "cell_type": "markdown",
      "source": [
        "4. Can keywords be used as variable names?\n",
        "   - No, keywords can’t be used as variable names in Python. Keywords are special words like if, for, and def, which have a specific meaning in the language. If you try to use them as variable names, Python will give an error."
      ],
      "metadata": {
        "id": "dly0HeiNetl7"
      }
    },
    {
      "cell_type": "markdown",
      "source": [
        "5. What is mutability in Python?\n",
        "   - Mutability in Python refers to the ability of an object to be changed after it is created.\n",
        "    - Mutable objects can be modified, such as lists and dictionaries.\n",
        "    - Immutable objects cannot be changed once created, such as strings, tuples, and numbers."
      ],
      "metadata": {
        "id": "VcQdiCLXfMK7"
      }
    },
    {
      "cell_type": "markdown",
      "source": [
        "6. Why are lists mutable, but tuples are immutable?\n",
        "   - Lists are mutable because they are designed to allow changes, such as adding, removing, or modifying elements after creation. This flexibility is useful for many tasks.\n",
        "   - Tuples are immutable to ensure that their data remains constant and cannot be changed accidentally. This makes tuples more efficient and safer to use, especially in cases where data integrity is important."
      ],
      "metadata": {
        "id": "iJ4Xz6RdfnSj"
      }
    },
    {
      "cell_type": "markdown",
      "source": [
        "7. What is the difference between “==” and “is” operators in Python?\n",
        "   - The '==' operator checks if the values of two objects are equal, whereas the 'is' operator checks if two objects refer to the same memory location (if they are the same object).\n",
        "    - ==: Compares the values of the objects.\n",
        "    - is: Compares the identity of the objects (whether they are the same object in memory)."
      ],
      "metadata": {
        "id": "pOq0pbyDf9Zv"
      }
    },
    {
      "cell_type": "markdown",
      "source": [
        "8. What are logical operators in Python?\n",
        "   - Logical operators in Python are used to combine conditional statements and return a Boolean result (True or False).\n",
        "    - and: Returns True if both conditions are true.\n",
        "    - or: Returns True if at least one condition is true.\n",
        "    - not: Reverses the Boolean value (returns True if the condition is false, and vice versa)."
      ],
      "metadata": {
        "id": "zAh1g7k_glPr"
      }
    },
    {
      "cell_type": "markdown",
      "source": [
        "9. What is type casting in Python?\n",
        "   - Type casting in Python is the process of converting one data type into another. It can be done explicitly using built-in functions.\n",
        "    - Implicit casting happens automatically when Python converts a smaller data type to a larger one (int to float).\n",
        "    - Explicit casting is done manually using functions like int(), float(), or str() to convert between types."
      ],
      "metadata": {
        "id": "PsoatQHwhhwX"
      }
    },
    {
      "cell_type": "markdown",
      "source": [
        "10. What is the difference between implicit and explicit type casting?\n",
        "    - Implicit type casting (also called type coercion) is automatically performed by Python when it converts a smaller data type to a larger one. This usually happens when the operation involves different data types. For example, converting an integer to a float.\n",
        "    - Explicit type casting requires the programmer to manually convert one data type to another using built-in functions like int(), float(), or str()."
      ],
      "metadata": {
        "id": "JXCFhCWkic4a"
      }
    },
    {
      "cell_type": "markdown",
      "source": [
        "11. What is the purpose of conditional statements in Python?\n",
        "    - Conditional statements in Python are used to control the flow of the program based on certain conditions. They allow the program to make decisions and execute specific code depending on whether a condition is True or False.\n",
        "    - The main conditional statements in Python are:\n",
        "      - if: Executes a block of code if the condition is True.\n",
        "      - elif: Checks another condition if the previous if or elif conditions were False.\n",
        "      - else: Executes a block of code if all previous conditions were False."
      ],
      "metadata": {
        "id": "LTgEbfb5i2KC"
      }
    },
    {
      "cell_type": "markdown",
      "source": [
        "12. How does the elif statement work?\n",
        "    - The elif (short for \"else if\") statement in Python is used to check multiple conditions in sequence. It comes after an if statement and allows you to test additional conditions if the initial if condition is False. If the elif condition is True, its block of code is executed; otherwise, the next elif or else (if any) is checked."
      ],
      "metadata": {
        "id": "v7CPSGfqjaCy"
      }
    },
    {
      "cell_type": "markdown",
      "source": [
        "13. What is the difference between for and while loops?\n",
        "    - for loop:\n",
        "      - Used to iterate over a sequence (like a list, tuple, or range) for a specific number of times.\n",
        "      - The number of iterations is known beforehand or determined by the length of the sequence.\n",
        "    - while loop:\n",
        "      - Continues to execute as long as a given condition is True.\n",
        "      - The number of iterations is not fixed and depends on the condition being met.\n",
        "    - Key Differences:\n",
        "      - for loop: Iterates over a sequence (list, range), and the number of iterations is predefined.   \n",
        "      - while loop: Runs as long as the condition is True, and the number of iterations is not predefined."
      ],
      "metadata": {
        "id": "BUGctAbojwya"
      }
    },
    {
      "cell_type": "markdown",
      "source": [
        "14. Describe a scenario where a while loop is more suitable than a for loop?\n",
        "    - A while loop is more suitable than a for loop when the number of iterations is not known in advance and depends on a dynamic condition that may change during execution.\n",
        "    - Example Scenario:\n",
        "      - Consider a situation where you are implementing a program that keeps asking a user to input a correct password until they enter the right one.\n",
        "      - In this case, the number of attempts is unknown because it depends on how many times the user enters an incorrect password.\n",
        "      - Here, a while loop is ideal because the loop will continue until the user enters the correct password, and the number of iterations (password attempts) is not fixed in advance.    "
      ],
      "metadata": {
        "id": "G0zSpv86kkKw"
      }
    },
    {
      "cell_type": "markdown",
      "source": [
        "Practical Questions"
      ],
      "metadata": {
        "id": "DF4DpACLleMz"
      }
    },
    {
      "cell_type": "markdown",
      "source": [
        "1.  Write a Python program to print \"Hello, World!\""
      ],
      "metadata": {
        "id": "HBD8V19AljiU"
      }
    },
    {
      "cell_type": "code",
      "source": [
        "print(\"hello, world\")"
      ],
      "metadata": {
        "colab": {
          "base_uri": "https://localhost:8080/"
        },
        "id": "1Nef5Ukxly_T",
        "outputId": "d9c10530-4ee0-4a96-dd3b-489147747176"
      },
      "execution_count": 2,
      "outputs": [
        {
          "output_type": "stream",
          "name": "stdout",
          "text": [
            "hello, world\n"
          ]
        }
      ]
    },
    {
      "cell_type": "markdown",
      "source": [
        "2. Write a Python program that displays your name and age."
      ],
      "metadata": {
        "id": "Ua0Fj7ftmEGK"
      }
    },
    {
      "cell_type": "code",
      "source": [
        "name = \"yogesh\"\n",
        "age = 21\n",
        "print(\"Name : \",name)\n",
        "print(\"Age : \", age)"
      ],
      "metadata": {
        "colab": {
          "base_uri": "https://localhost:8080/"
        },
        "id": "BDNL9PbWmRSO",
        "outputId": "cd92c66a-5b9b-4494-f2fb-3d0f952fdc99"
      },
      "execution_count": 16,
      "outputs": [
        {
          "output_type": "stream",
          "name": "stdout",
          "text": [
            "Name :  yogesh\n",
            "Age :  21\n"
          ]
        }
      ]
    },
    {
      "cell_type": "markdown",
      "source": [
        "3. Write code to print all the pre-defined keywords in Python using the keyword library."
      ],
      "metadata": {
        "id": "csNLwaapnr1I"
      }
    },
    {
      "cell_type": "code",
      "source": [
        "# first import keywords.\n",
        "import keyword\n",
        "# frint all keyword using keyword.kwlist.\n",
        "print(keyword.kwlist)"
      ],
      "metadata": {
        "colab": {
          "base_uri": "https://localhost:8080/"
        },
        "id": "7uTgduYFnxko",
        "outputId": "4c21c3aa-b21f-496f-e294-23e275fa0fed"
      },
      "execution_count": 17,
      "outputs": [
        {
          "output_type": "stream",
          "name": "stdout",
          "text": [
            "['False', 'None', 'True', 'and', 'as', 'assert', 'async', 'await', 'break', 'class', 'continue', 'def', 'del', 'elif', 'else', 'except', 'finally', 'for', 'from', 'global', 'if', 'import', 'in', 'is', 'lambda', 'nonlocal', 'not', 'or', 'pass', 'raise', 'return', 'try', 'while', 'with', 'yield']\n"
          ]
        }
      ]
    },
    {
      "cell_type": "markdown",
      "source": [
        "4. Write a program that checks if a given word is a Python keyword."
      ],
      "metadata": {
        "id": "ZGdrObyNzDw5"
      }
    },
    {
      "cell_type": "code",
      "source": [
        "# import keywords\n",
        "import keyword\n",
        "# ask user for input data\n",
        "user_input = input(\"Enter a word:\")\n",
        "# check user input is present in keyword or not\n",
        "if user_input in keyword.kwlist:\n",
        "    print(\"given word is a keyword: \")\n",
        "else:\n",
        "    print(\"not a keyword:  \")"
      ],
      "metadata": {
        "colab": {
          "base_uri": "https://localhost:8080/"
        },
        "id": "IpwNdkD8zGdM",
        "outputId": "6a35ec38-3a20-4464-e9bf-316fff71fb01"
      },
      "execution_count": 45,
      "outputs": [
        {
          "output_type": "stream",
          "name": "stdout",
          "text": [
            "Enter a wordTrue\n",
            "given word is a keyword: \n"
          ]
        }
      ]
    },
    {
      "cell_type": "markdown",
      "source": [
        "5. Create a list and tuple in Python, and demonstrate how attempting to change an element works differently\n",
        "for each."
      ],
      "metadata": {
        "id": "HaJ2PQib3LgK"
      }
    },
    {
      "cell_type": "code",
      "source": [
        "# create a list\n",
        "my_list =[2,4,6,8]\n",
        "print(\"previous list\",my_list)\n",
        "# update list\n",
        "my_list[2] = 20\n",
        "print(\"updated list:\",my_list)\n",
        "#list is mutable , means it can be updated after creation."
      ],
      "metadata": {
        "colab": {
          "base_uri": "https://localhost:8080/"
        },
        "id": "nFoGYpue3Sh5",
        "outputId": "d78c47ec-bb9d-4979-a05e-cf2bc3a5f720"
      },
      "execution_count": 48,
      "outputs": [
        {
          "output_type": "stream",
          "name": "stdout",
          "text": [
            "previous list [2, 4, 6, 8]\n",
            "updated list: [2, 4, 20, 8]\n"
          ]
        }
      ]
    },
    {
      "cell_type": "code",
      "source": [
        "# create a tuple\n",
        "my_tuple =(1,3,5,7,9)\n",
        "print(\"previous tuple\",my_tuple)\n",
        "#update tuple\n",
        "my_tuple[3]= 30\n",
        "print(\"updated tuple\",my_tuple)\n",
        "# tuple is immutable , means it cannot be updated after creation. it will throew error if you try to update tuple\n"
      ],
      "metadata": {
        "colab": {
          "base_uri": "https://localhost:8080/",
          "height": 219
        },
        "id": "uZv9nXjK4kiW",
        "outputId": "7a5364ec-f311-4691-b5a5-797ddff0f3c6"
      },
      "execution_count": 50,
      "outputs": [
        {
          "output_type": "stream",
          "name": "stdout",
          "text": [
            "previous tuple (1, 3, 5, 7, 9)\n"
          ]
        },
        {
          "output_type": "error",
          "ename": "TypeError",
          "evalue": "'tuple' object does not support item assignment",
          "traceback": [
            "\u001b[0;31m---------------------------------------------------------------------------\u001b[0m",
            "\u001b[0;31mTypeError\u001b[0m                                 Traceback (most recent call last)",
            "\u001b[0;32m<ipython-input-50-ad9e0b9fca5f>\u001b[0m in \u001b[0;36m<cell line: 5>\u001b[0;34m()\u001b[0m\n\u001b[1;32m      3\u001b[0m \u001b[0mprint\u001b[0m\u001b[0;34m(\u001b[0m\u001b[0;34m\"previous tuple\"\u001b[0m\u001b[0;34m,\u001b[0m\u001b[0mmy_tuple\u001b[0m\u001b[0;34m)\u001b[0m\u001b[0;34m\u001b[0m\u001b[0;34m\u001b[0m\u001b[0m\n\u001b[1;32m      4\u001b[0m \u001b[0;31m#update tuple\u001b[0m\u001b[0;34m\u001b[0m\u001b[0;34m\u001b[0m\u001b[0m\n\u001b[0;32m----> 5\u001b[0;31m \u001b[0mmy_tuple\u001b[0m\u001b[0;34m[\u001b[0m\u001b[0;36m3\u001b[0m\u001b[0;34m]\u001b[0m\u001b[0;34m=\u001b[0m \u001b[0;36m30\u001b[0m\u001b[0;34m\u001b[0m\u001b[0;34m\u001b[0m\u001b[0m\n\u001b[0m\u001b[1;32m      6\u001b[0m \u001b[0mprint\u001b[0m\u001b[0;34m(\u001b[0m\u001b[0;34m\"updated tuple\"\u001b[0m\u001b[0;34m,\u001b[0m\u001b[0mmy_tuple\u001b[0m\u001b[0;34m)\u001b[0m\u001b[0;34m\u001b[0m\u001b[0;34m\u001b[0m\u001b[0m\n",
            "\u001b[0;31mTypeError\u001b[0m: 'tuple' object does not support item assignment"
          ]
        }
      ]
    },
    {
      "cell_type": "markdown",
      "source": [
        "6. Write a function to demonstrate the behavior of mutable and immutable arguments.\n"
      ],
      "metadata": {
        "id": "-FUpdng3526z"
      }
    },
    {
      "cell_type": "markdown",
      "source": [
        "7. Write a function to demonstrate the behavior of mutable and immutable arguments."
      ],
      "metadata": {
        "id": "Z3mFhu5q7eJi"
      }
    },
    {
      "cell_type": "code",
      "source": [
        "### Write a function to demonstrate the behavior of mutable and immutable arguments ?\n",
        "\n",
        "def modify_args(immutable_arg, mutable_arg):\n",
        "    print(\"Before modification:\")\n",
        "    print(\"Immutable argument:\", immutable_arg)\n",
        "    print(\"Mutable argument:\", mutable_arg)\n",
        "\n",
        "    # Modify the immutable argument (will not change)\n",
        "    immutable_arg += 5\n",
        "    # Modify the mutable argument (will change)\n",
        "    mutable_arg.append(40)\n",
        "\n",
        "    print(\"\\nAfter modification:\")\n",
        "    print(\"Immutable argument:\", immutable_arg)  # The value remains unchanged\n",
        "    print(\"Mutable argument:\", mutable_arg)  # The value changes\n",
        "\n",
        "\n",
        "# Test with immutable and mutable arguments\n",
        "num = 30\n",
        "lst = [10, 20 , 30 ]\n",
        "\n",
        "modify_args(num, lst)"
      ],
      "metadata": {
        "colab": {
          "base_uri": "https://localhost:8080/"
        },
        "id": "ZE7FvHyf6Tz7",
        "outputId": "e7598d93-a1e0-4b9a-c880-f150819b5888"
      },
      "execution_count": 52,
      "outputs": [
        {
          "output_type": "stream",
          "name": "stdout",
          "text": [
            "Before modification:\n",
            "Immutable argument: 30\n",
            "Mutable argument: [10, 20, 30]\n",
            "\n",
            "After modification:\n",
            "Immutable argument: 35\n",
            "Mutable argument: [10, 20, 30, 40]\n"
          ]
        }
      ]
    },
    {
      "cell_type": "markdown",
      "source": [
        "8. Write a program to demonstrate the use of logical operators."
      ],
      "metadata": {
        "id": "du9EhKXK8UJI"
      }
    },
    {
      "cell_type": "code",
      "source": [
        "# using 'and' operator\n",
        "a = 2\n",
        "b = 0\n",
        "c = 0\n",
        "if a >0 and b>0 :\n",
        "  print(\"both are greater than 0\")\n",
        "else:\n",
        "  print(\"one of them is greater than 0\")\n",
        "\n",
        "# using 'or' operator\n",
        "\n",
        "if a >0 or b >0 :\n",
        "  print(\"one of them is greater than 0\")\n",
        "else:\n",
        "  print(\"none of them is greater\")\n",
        "\n",
        "# using 'not' operator\n",
        "\n",
        "if not (a == 0):\n",
        "  print(\"a is not equal to 0\")\n",
        "else:\n",
        "  print(\"a greater then 0\")"
      ],
      "metadata": {
        "colab": {
          "base_uri": "https://localhost:8080/"
        },
        "id": "JIqGMcwx8GpO",
        "outputId": "73b54b1b-492e-44ad-ea2d-1887c6a0ae31"
      },
      "execution_count": 60,
      "outputs": [
        {
          "output_type": "stream",
          "name": "stdout",
          "text": [
            "one of them is greater than 0\n",
            "one of them is greater than 0\n",
            "a is not equal to 0\n"
          ]
        }
      ]
    },
    {
      "cell_type": "markdown",
      "source": [
        "9. Write a Python program to convert user input from string to integer, float, and boolean types."
      ],
      "metadata": {
        "id": "Pf6o6DTZ_MU1"
      }
    },
    {
      "cell_type": "code",
      "source": [
        "# converting user input form sting to integer , float and boolean.\n",
        "# string or integers.\n",
        "a = \"\"\n",
        "a = input(\"enter some thing\")\n",
        "print(\"user input is in string type\")\n",
        "print(\"user input:\",a)\n",
        "print(type(a))\n",
        "# changing string to integer using int() function.\n",
        "print(\"after converting to interger\")\n",
        "print(\"user input:\",int(a))\n",
        "print(type(int(a)))\n",
        "# changing string to float using float() function.\n",
        "print(\"after converting to float\")\n",
        "print(\"user input:\",float(a))\n",
        "print(type(float(a)))\n",
        "# changing strint to boolean using b0ol() function.\n",
        "print(\"after converting to boolean\")\n",
        "print(\"user input:\",bool(a))\n",
        "print(type(bool(a)))"
      ],
      "metadata": {
        "colab": {
          "base_uri": "https://localhost:8080/"
        },
        "id": "0sERfzoI_RGX",
        "outputId": "b816d007-34a5-466c-8b23-b60c371194d3"
      },
      "execution_count": 70,
      "outputs": [
        {
          "output_type": "stream",
          "name": "stdout",
          "text": [
            "enter some thing3\n",
            "user input is in string type\n",
            "user input: 3\n",
            "<class 'str'>\n",
            "after converting to interger\n",
            "user input: 3\n",
            "<class 'int'>\n",
            "after converting to float\n",
            "user input: 3.0\n",
            "<class 'float'>\n",
            "after converting to boolean\n",
            "user input: True\n",
            "<class 'bool'>\n"
          ]
        }
      ]
    },
    {
      "cell_type": "markdown",
      "source": [
        "10. Write code to demonstrate type casting with list elements."
      ],
      "metadata": {
        "id": "fckmjrz3C3Oy"
      }
    },
    {
      "cell_type": "code",
      "source": [
        "def type_casting_example():\n",
        "  # list with different datatype elements .\n",
        "  list=[1,2.3,\"3\",True,[5,10]]\n",
        "  print(\"list:\",list)\n",
        "\n",
        "  # converting int to float.\n",
        "  int_value = float(list[0])\n",
        "  print(\" converting '1' to  \", int_value)\n",
        "\n",
        "  # converting float to integer.\n",
        "  float_value = int(list[1])\n",
        "  print(\" converting '2.3' to \", float_value )\n",
        "\n",
        "  # converting string to int (assuming string is a number).\n",
        "  str_value = int(list[2])\n",
        "  print(\" converting ''3'' to\", str_value)\n",
        "\n",
        "  # converting boolean to int.\n",
        "  intbol_value = int(list[3])\n",
        "  print(\" converting 'True' to\", intbol_value)\n",
        "\n",
        "  # converting list to string.\n",
        "  string_value = str(list[4])\n",
        "  print(\" converting [5,10] to \",string_value)\n",
        "\n",
        "  # converting list to tuple.\n",
        "  tuple_list = tuple(list)\n",
        "  print(\"converting list to tuple :\",tuple_list)\n",
        "\n",
        "type_casting_example()"
      ],
      "metadata": {
        "colab": {
          "base_uri": "https://localhost:8080/"
        },
        "id": "gImXpo59DvyG",
        "outputId": "5e72caee-7a53-4420-8f46-49738e619f1f"
      },
      "execution_count": 85,
      "outputs": [
        {
          "output_type": "stream",
          "name": "stdout",
          "text": [
            "list: [1, 2.3, '3', True, [5, 10]]\n",
            " converting '1' to   1.0\n",
            " converting '2.3' to  2\n",
            " converting ''3'' to 3\n",
            " converting 'True' to 1\n",
            " converting [5,10] to  [5, 10]\n",
            "converting list to tuple : (1, 2.3, '3', True, [5, 10])\n"
          ]
        }
      ]
    },
    {
      "cell_type": "markdown",
      "source": [
        "11. Write a program that checks if a number is positive, negative, or zero."
      ],
      "metadata": {
        "id": "-LhHHr94IYsM"
      }
    },
    {
      "cell_type": "code",
      "source": [
        "def number_checker():\n",
        "  user_input = input(\"enter any number:\")\n",
        "  num = int(user_input)\n",
        "  if num > 0 :\n",
        "    print(\"Number is greater than zero\")\n",
        "  elif  num == 0 :\n",
        "    print(\"Number is equal to zero\")\n",
        "  else:\n",
        "    print(\"number is negative \")\n",
        "number_checker()"
      ],
      "metadata": {
        "id": "yFuj5MmtId92",
        "outputId": "f7820bfd-ac1c-4584-c33b-479f7ac88353",
        "colab": {
          "base_uri": "https://localhost:8080/"
        }
      },
      "execution_count": 97,
      "outputs": [
        {
          "output_type": "stream",
          "name": "stdout",
          "text": [
            "enter any number:-8\n",
            "number is negative \n"
          ]
        }
      ]
    },
    {
      "cell_type": "markdown",
      "source": [
        "12.  Write a for loop to print numbers from 1 to 10."
      ],
      "metadata": {
        "id": "-gvp6YAILKeO"
      }
    },
    {
      "cell_type": "code",
      "source": [
        "for number in range(1, 11):\n",
        "  print(\"number\",number )"
      ],
      "metadata": {
        "id": "iQSvxGntLP00",
        "outputId": "76defda9-21a4-46fc-d188-d07910106b49",
        "colab": {
          "base_uri": "https://localhost:8080/"
        }
      },
      "execution_count": 98,
      "outputs": [
        {
          "output_type": "stream",
          "name": "stdout",
          "text": [
            "number 1\n",
            "number 2\n",
            "number 3\n",
            "number 4\n",
            "number 5\n",
            "number 6\n",
            "number 7\n",
            "number 8\n",
            "number 9\n",
            "number 10\n"
          ]
        }
      ]
    },
    {
      "cell_type": "markdown",
      "source": [
        "13. Write a Python program to find the sum of all even numbers between 1 and 50."
      ],
      "metadata": {
        "id": "HXNTt7U1MRtg"
      }
    },
    {
      "cell_type": "code",
      "source": [
        "even_num=0\n",
        "for number in range(0,51):\n",
        "  if number%2 ==0 :\n",
        "    even_num += number\n",
        "print(\"this is a even number\", even_num)"
      ],
      "metadata": {
        "id": "jDGQhQZNMXQ-",
        "outputId": "795ba3f2-f02c-4a04-fe50-076b3cc47a25",
        "colab": {
          "base_uri": "https://localhost:8080/"
        }
      },
      "execution_count": 108,
      "outputs": [
        {
          "output_type": "stream",
          "name": "stdout",
          "text": [
            "this is a even number 650\n"
          ]
        }
      ]
    },
    {
      "cell_type": "markdown",
      "source": [
        "14. Write a program to reverse a string using a while loop."
      ],
      "metadata": {
        "id": "J7k2OnNBOM1J"
      }
    },
    {
      "cell_type": "code",
      "source": [
        "#Get input from user.\n",
        "input_string =input(\"Type a string: \")\n",
        "#initialize variable\n",
        "reversed_string=\"\"\n",
        "index = len(input_string)-1\n",
        "# use while loop to reverse the string\n",
        "while index >= 0 :\n",
        "   reversed_string += input_string[index]\n",
        "   index -= 1\n",
        "print(\"reversed string:\", reversed_string)"
      ],
      "metadata": {
        "id": "25twMUDDOTge",
        "outputId": "98cc41ad-f0c0-4000-e338-53770121f097",
        "colab": {
          "base_uri": "https://localhost:8080/"
        }
      },
      "execution_count": 111,
      "outputs": [
        {
          "output_type": "stream",
          "name": "stdout",
          "text": [
            "Type a string: yash\n",
            "reversed string: hsay\n"
          ]
        }
      ]
    },
    {
      "cell_type": "markdown",
      "source": [
        "15. Write a Python program to calculate the factorial of a number provided by the user using a while loop."
      ],
      "metadata": {
        "id": "mbv30C1HPwKQ"
      }
    },
    {
      "cell_type": "code",
      "source": [
        "# Get user input\n",
        "number = int(input(\"Enter a number to calculate its factorial: \"))\n",
        "\n",
        "# Initialize variables\n",
        "factorial = 1\n",
        "counter = number\n",
        "\n",
        "# Use a while loop to calculate the factorial\n",
        "while counter > 0:\n",
        "    factorial *= counter  # Multiply the current factorial by the counter\n",
        "    counter -= 1  # Decrement the counter\n",
        "\n",
        "# Print the result\n",
        "print(f\"The factorial of {number} is: {factorial}\")"
      ],
      "metadata": {
        "id": "ofqln851P2nB",
        "outputId": "1e4aca54-60ef-469e-ac86-3a5dfff8ff12",
        "colab": {
          "base_uri": "https://localhost:8080/"
        }
      },
      "execution_count": 114,
      "outputs": [
        {
          "output_type": "stream",
          "name": "stdout",
          "text": [
            "Enter a number to calculate its factorial: 5\n",
            "The factorial of 5 is: 120\n"
          ]
        }
      ]
    }
  ]
}